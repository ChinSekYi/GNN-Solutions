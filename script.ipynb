{
 "cells": [
  {
   "cell_type": "markdown",
   "metadata": {},
   "source": [
    "# GNN on CORA dataset"
   ]
  },
  {
   "cell_type": "code",
   "execution_count": 16,
   "metadata": {},
   "outputs": [],
   "source": [
    "import numpy as np\n",
    "import tensorflow as tf \n",
    "import spektral "
   ]
  },
  {
   "cell_type": "code",
   "execution_count": 17,
   "metadata": {},
   "outputs": [
    {
     "name": "stdout",
     "output_type": "stream",
     "text": [
      "(2708, 1433)\n",
      "(2708, 2708)\n",
      "(2708, 7)\n",
      "140\n",
      "500\n",
      "1000\n"
     ]
    }
   ],
   "source": [
    "cora_dataset = spektral.datasets.citation.Citation(name='cora')\n",
    "test_mask = cora_dataset.mask_te\n",
    "train_mask = cora_dataset.mask_tr\n",
    "val_mask = cora_dataset.mask_va\n",
    "graph = cora_dataset.graphs[0]\n",
    "features = graph.x\n",
    "adj = graph.a\n",
    "labels = graph.y\n",
    "\n",
    "#adj, features, labels, train_mask, val_mask, test_mask = spektral.datasets.citation.load_data(dataset_name = 'cora')\n",
    "# Only convert to dense if it's a sparse matrix\n",
    "if hasattr(features, 'todense'):\n",
    "    features = features.todense()\n",
    "if hasattr(adj, 'todense'):\n",
    "    adj = adj.todense()\n",
    "\n",
    "# Add self-connections and cast types\n",
    "adj = adj + np.eye(adj.shape[0])\n",
    "features = features.astype('float32')\n",
    "adj = adj.astype('float32')\n",
    "\n",
    "\n",
    "print(features.shape)\n",
    "print(adj.shape)\n",
    "print(labels.shape)\n",
    "\n",
    "print(np.sum(train_mask))\n",
    "print(np.sum(val_mask))\n",
    "print(np.sum(test_mask))"
   ]
  },
  {
   "cell_type": "markdown",
   "metadata": {},
   "source": [
    "Archive  \n",
    "features = features.todense()\n",
    "adj = adj.todense() + np.eye(adj.shape[0])\n",
    "features = features.astype('float32')\n",
    "adj = adj.astype('float32')"
   ]
  },
  {
   "cell_type": "code",
   "execution_count": 22,
   "metadata": {},
   "outputs": [],
   "source": [
    "def masked_softmax_cross_entropy(logits, labels, mask):\n",
    "    loss = tf.nn.softmax_cross_entropy_with_logits(logits=logits, labels=labels)\n",
    "    mask = tf.cast(mask, dtype=tf.float32)\n",
    "    mask /= tf.reduce_mean(mask)\n",
    "    loss *= mask\n",
    "    return tf.reduce_mean(loss)\n",
    "\n",
    "def masked_accuracy(logits, labels, mask):\n",
    "    correct_prediction = tf.equal(tf.argmax(logits, 1), tf.argmax(labels, 1))\n",
    "    accuracy_all = tf.cast(correct_prediction, tf.float32)\n",
    "    mask = tf.cast(mask, dtype=tf.float32)\n",
    "    mask /= tf.reduce_mean(mask)\n",
    "    accuracy_all *= mask\n",
    "    return tf.reduce_mean(accuracy_all)"
   ]
  },
  {
   "cell_type": "code",
   "execution_count": 23,
   "metadata": {},
   "outputs": [],
   "source": [
    "def gnn(fits, adj, transform, activation):\n",
    "    seq_fits = transform(fits)\n",
    "    ret_fits = tf.matmul(adj, seq_fits)\n",
    "    return activation(ret_fits)"
   ]
  },
  {
   "cell_type": "code",
   "execution_count": 26,
   "metadata": {},
   "outputs": [],
   "source": [
    "def train_cora(fts, adj, gnn_fn, units, epochs, lr):\n",
    "    lyr_1 = tf.keras.layers.Dense(units)\n",
    "    lyr_2 = tf.keras.layers.Dense(7)\n",
    "\n",
    "    def cora_gnn(fts, adj):\n",
    "        hidden = gnn_fn(fts, adj, lyr_1, tf.nn.relu)\n",
    "        logits = gnn_fn(hidden, adj, lyr_2, tf.identity)\n",
    "        return logits\n",
    "    \n",
    "    optimizer = tf.keras.optimizers.Adam(learning_rate=lr)\n",
    "\n",
    "    best_accuracy = 0.0\n",
    "    for ep in range(epochs + 1):\n",
    "        with tf.GradientTape() as t:\n",
    "            logits = cora_gnn(fts, adj)\n",
    "            loss = masked_softmax_cross_entropy(logits, labels, train_mask)\n",
    "        \n",
    "        variables = t.watched_variables()\n",
    "        grads = t.gradient(loss, variables)\n",
    "        optimizer.apply_gradients(zip(grads, variables))\n",
    "\n",
    "        logits = cora_gnn(fts, adj)\n",
    "        val_accuracy = masked_accuracy(logits, labels, val_mask)\n",
    "        test_accuracy = masked_accuracy(logits, labels, test_mask)\n",
    "\n",
    "        if val_accuracy > best_accuracy: \n",
    "            best_accuracy = val_accuracy\n",
    "            print('Epoch', ep, '|Training loss: ', loss.numpy(), '|Val accuracy: ', val_accuracy.numpy(), 'Test accuracy:', test_accuracy.numpy())"
   ]
  },
  {
   "cell_type": "code",
   "execution_count": 27,
   "metadata": {},
   "outputs": [
    {
     "name": "stdout",
     "output_type": "stream",
     "text": [
      "Epoch 0 |Training loss:  3.9985986 |Val accuracy:  0.22999999 Test accuracy: 0.236\n",
      "Epoch 1 |Training loss:  4.459577 |Val accuracy:  0.35999998 Test accuracy: 0.38500002\n",
      "Epoch 2 |Training loss:  2.972389 |Val accuracy:  0.54999995 Test accuracy: 0.58500004\n",
      "Epoch 3 |Training loss:  1.2214642 |Val accuracy:  0.57 Test accuracy: 0.577\n",
      "Epoch 4 |Training loss:  1.0482813 |Val accuracy:  0.59 Test accuracy: 0.609\n",
      "Epoch 5 |Training loss:  0.75445527 |Val accuracy:  0.678 Test accuracy: 0.71000004\n",
      "Epoch 8 |Training loss:  0.31895858 |Val accuracy:  0.682 Test accuracy: 0.73499995\n",
      "Epoch 9 |Training loss:  0.260948 |Val accuracy:  0.684 Test accuracy: 0.74499995\n",
      "Epoch 10 |Training loss:  0.22523393 |Val accuracy:  0.69600004 Test accuracy: 0.755\n",
      "Epoch 11 |Training loss:  0.19419615 |Val accuracy:  0.702 Test accuracy: 0.75200003\n",
      "Epoch 12 |Training loss:  0.1653759 |Val accuracy:  0.706 Test accuracy: 0.751\n",
      "Epoch 13 |Training loss:  0.13913079 |Val accuracy:  0.71199995 Test accuracy: 0.75\n",
      "Epoch 14 |Training loss:  0.11765085 |Val accuracy:  0.716 Test accuracy: 0.746\n",
      "Epoch 17 |Training loss:  0.069382735 |Val accuracy:  0.718 Test accuracy: 0.75\n",
      "Epoch 19 |Training loss:  0.048541613 |Val accuracy:  0.722 Test accuracy: 0.747\n",
      "Epoch 20 |Training loss:  0.040298663 |Val accuracy:  0.726 Test accuracy: 0.749\n",
      "Epoch 21 |Training loss:  0.033553924 |Val accuracy:  0.72800004 Test accuracy: 0.75399995\n",
      "Epoch 22 |Training loss:  0.028069906 |Val accuracy:  0.73200005 Test accuracy: 0.75200003\n",
      "Epoch 42 |Training loss:  0.0020276802 |Val accuracy:  0.734 Test accuracy: 0.73999995\n",
      "Epoch 43 |Training loss:  0.0018727295 |Val accuracy:  0.736 Test accuracy: 0.742\n"
     ]
    }
   ],
   "source": [
    "train_cora(features, adj, gnn, 32, 200, 0.01)"
   ]
  },
  {
   "cell_type": "code",
   "execution_count": null,
   "metadata": {},
   "outputs": [
    {
     "name": "stdout",
     "output_type": "stream",
     "text": [
      "Epoch 0 |Training loss:  1.957834 |Val accuracy:  0.21199998 Test accuracy: 0.212\n",
      "Epoch 1 |Training loss:  1.6890169 |Val accuracy:  0.3 Test accuracy: 0.271\n",
      "Epoch 2 |Training loss:  1.4644334 |Val accuracy:  0.358 Test accuracy: 0.313\n",
      "Epoch 3 |Training loss:  1.2283909 |Val accuracy:  0.36799997 Test accuracy: 0.342\n",
      "Epoch 4 |Training loss:  0.99268365 |Val accuracy:  0.39799997 Test accuracy: 0.36900002\n",
      "Epoch 5 |Training loss:  0.7763204 |Val accuracy:  0.406 Test accuracy: 0.377\n",
      "Epoch 7 |Training loss:  0.44625774 |Val accuracy:  0.42199996 Test accuracy: 0.409\n",
      "Epoch 8 |Training loss:  0.3332327 |Val accuracy:  0.436 Test accuracy: 0.42299995\n",
      "Epoch 9 |Training loss:  0.2482627 |Val accuracy:  0.444 Test accuracy: 0.433\n",
      "Epoch 10 |Training loss:  0.18484962 |Val accuracy:  0.454 Test accuracy: 0.44799998\n",
      "Epoch 11 |Training loss:  0.13816255 |Val accuracy:  0.464 Test accuracy: 0.45299995\n",
      "Epoch 12 |Training loss:  0.1042427 |Val accuracy:  0.47 Test accuracy: 0.46199998\n",
      "Epoch 13 |Training loss:  0.07974478 |Val accuracy:  0.482 Test accuracy: 0.466\n",
      "Epoch 14 |Training loss:  0.061962415 |Val accuracy:  0.484 Test accuracy: 0.47199997\n",
      "Epoch 15 |Training loss:  0.048899252 |Val accuracy:  0.50200003 Test accuracy: 0.47699997\n",
      "Epoch 16 |Training loss:  0.039061327 |Val accuracy:  0.508 Test accuracy: 0.48799998\n",
      "Epoch 17 |Training loss:  0.031512987 |Val accuracy:  0.516 Test accuracy: 0.49499997\n",
      "Epoch 19 |Training loss:  0.021004297 |Val accuracy:  0.518 Test accuracy: 0.50200003\n",
      "Epoch 20 |Training loss:  0.01731246 |Val accuracy:  0.52199996 Test accuracy: 0.511\n",
      "Epoch 21 |Training loss:  0.01435362 |Val accuracy:  0.524 Test accuracy: 0.511\n",
      "Epoch 22 |Training loss:  0.011972784 |Val accuracy:  0.52400005 Test accuracy: 0.511\n",
      "Epoch 23 |Training loss:  0.010050795 |Val accuracy:  0.526 Test accuracy: 0.51000005\n",
      "Epoch 24 |Training loss:  0.008491618 |Val accuracy:  0.528 Test accuracy: 0.51\n",
      "Epoch 25 |Training loss:  0.0072273496 |Val accuracy:  0.53 Test accuracy: 0.512\n"
     ]
    }
   ],
   "source": [
    "train_cora(features, tf.eye(adj.shape[0]), gnn, 32, 200, 0.01) # low accuracy because graph structure is not specified"
   ]
  },
  {
   "cell_type": "code",
   "execution_count": 29,
   "metadata": {},
   "outputs": [
    {
     "name": "stdout",
     "output_type": "stream",
     "text": [
      "Epoch 0 |Training loss:  1.9526887 |Val accuracy:  0.46199998 Test accuracy: 0.48999998\n",
      "Epoch 1 |Training loss:  1.765854 |Val accuracy:  0.612 Test accuracy: 0.61\n",
      "Epoch 2 |Training loss:  1.5531013 |Val accuracy:  0.648 Test accuracy: 0.652\n",
      "Epoch 3 |Training loss:  1.3126489 |Val accuracy:  0.69600004 Test accuracy: 0.721\n",
      "Epoch 4 |Training loss:  1.0788159 |Val accuracy:  0.742 Test accuracy: 0.76399994\n",
      "Epoch 5 |Training loss:  0.8729963 |Val accuracy:  0.76000005 Test accuracy: 0.7849999\n",
      "Epoch 6 |Training loss:  0.69975173 |Val accuracy:  0.77400005 Test accuracy: 0.7999998\n",
      "Epoch 7 |Training loss:  0.5558219 |Val accuracy:  0.782 Test accuracy: 0.8079998\n",
      "Epoch 8 |Training loss:  0.4379415 |Val accuracy:  0.79199994 Test accuracy: 0.8099998\n"
     ]
    }
   ],
   "source": [
    "deg = tf.reduce_sum(adj, axis=-1)\n",
    "train_cora(features, adj/ deg, gnn, 32, 200, 0.01)"
   ]
  },
  {
   "cell_type": "code",
   "execution_count": 30,
   "metadata": {},
   "outputs": [
    {
     "name": "stdout",
     "output_type": "stream",
     "text": [
      "Epoch 0 |Training loss:  1.9492472 |Val accuracy:  0.41799995 Test accuracy: 0.42699996\n",
      "Epoch 1 |Training loss:  1.763634 |Val accuracy:  0.636 Test accuracy: 0.656\n",
      "Epoch 2 |Training loss:  1.555357 |Val accuracy:  0.71 Test accuracy: 0.73999995\n",
      "Epoch 3 |Training loss:  1.3243644 |Val accuracy:  0.746 Test accuracy: 0.77399987\n",
      "Epoch 4 |Training loss:  1.1024923 |Val accuracy:  0.75799996 Test accuracy: 0.78299993\n",
      "Epoch 5 |Training loss:  0.90055156 |Val accuracy:  0.778 Test accuracy: 0.79899985\n",
      "Epoch 6 |Training loss:  0.7220654 |Val accuracy:  0.78999996 Test accuracy: 0.8099998\n",
      "Epoch 7 |Training loss:  0.5695971 |Val accuracy:  0.79199994 Test accuracy: 0.8099998\n"
     ]
    }
   ],
   "source": [
    "norm_deg = tf.linalg.diag(1.0 / tf.sqrt(deg))\n",
    "norm_adj = tf.matmul(norm_deg, tf.matmul(adj, norm_deg))\n",
    "train_cora(features, norm_adj, gnn, 32, 200, 0.01)"
   ]
  }
 ],
 "metadata": {
  "kernelspec": {
   "display_name": "dev",
   "language": "python",
   "name": "python3"
  },
  "language_info": {
   "codemirror_mode": {
    "name": "ipython",
    "version": 3
   },
   "file_extension": ".py",
   "mimetype": "text/x-python",
   "name": "python",
   "nbconvert_exporter": "python",
   "pygments_lexer": "ipython3",
   "version": "3.10.14"
  }
 },
 "nbformat": 4,
 "nbformat_minor": 2
}
